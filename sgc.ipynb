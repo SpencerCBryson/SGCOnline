{
 "cells": [
  {
   "cell_type": "code",
   "execution_count": 1,
   "metadata": {
    "colab": {},
    "colab_type": "code",
    "id": "1rFOGpoy5up5"
   },
   "outputs": [],
   "source": [
    "import networkx as nx\n",
    "import json\n",
    "import random as rand\n",
    "import numpy as np\n",
    "import torch\n",
    "import torch.nn as nn\n",
    "import torch.nn.functional as F\n",
    "\n",
    "\n",
    "import numpy.linalg as linalg\n",
    "import csv"
   ]
  },
  {
   "cell_type": "code",
   "execution_count": 2,
   "metadata": {
    "colab": {
     "base_uri": "https://localhost:8080/",
     "height": 121
    },
    "colab_type": "code",
    "id": "jc-GjCIe586W",
    "outputId": "eb373e24-c67b-4614-8da0-10903fb0f280"
   },
   "outputs": [],
   "source": [
    "# from google.colab import drive\n",
    "# drive.mount('/content/gdrive')\n",
    "root = 'datasets/'"
   ]
  },
  {
   "cell_type": "code",
   "execution_count": 3,
   "metadata": {
    "colab": {},
    "colab_type": "code",
    "id": "BmQAkh1p5up-"
   },
   "outputs": [],
   "source": [
    "G = nx.read_edgelist(root+'/git_edges.csv', nodetype=int, delimiter=',').to_undirected()\n",
    "\n",
    "features = dict()\n",
    "with open(root+'git_features.json', 'r') as f:\n",
    "    features = json.load(f)\n",
    "\n",
    "classes = dict()\n",
    "with open(root+'git_target.csv', 'r') as f:\n",
    "    csv_file = csv.reader(f, delimiter=',')\n",
    "    next(csv_file) #skip header\n",
    "    \n",
    "    for row in csv_file:\n",
    "        i = int(row[0])\n",
    "        classes[i] = int(row[2])"
   ]
  },
  {
   "cell_type": "code",
   "execution_count": 4,
   "metadata": {
    "colab": {},
    "colab_type": "code",
    "id": "8Uf3a_B25uqA"
   },
   "outputs": [],
   "source": [
    "feats = set()\n",
    "\n",
    "for k,v in features.items():\n",
    "        feats.update(v)\n",
    "\n",
    "feature_len = len(feats)\n",
    "\n",
    "def get_features(nodeid):\n",
    "    _feats = features[nodeid]\n",
    "    feats = np.zeros(feature_len)\n",
    "    for f in _feats:\n",
    "        feats[f] = 1\n",
    "        \n",
    "    return feats"
   ]
  },
  {
   "cell_type": "code",
   "execution_count": 5,
   "metadata": {
    "colab": {
     "base_uri": "https://localhost:8080/",
     "height": 34
    },
    "colab_type": "code",
    "id": "vWF2KDbP5uqC",
    "outputId": "847f5665-83a2-4d20-f45b-54c6988772de"
   },
   "outputs": [
    {
     "name": "stdout",
     "output_type": "stream",
     "text": [
      "edges: 289003 \t nodes: 37700\n"
     ]
    }
   ],
   "source": [
    "print(\"edges:\", G.size(), \"\\t nodes:\", len(G.nodes())) "
   ]
  },
  {
   "cell_type": "code",
   "execution_count": 26,
   "metadata": {
    "colab": {},
    "colab_type": "code",
    "id": "9cmbzMYL5uqF"
   },
   "outputs": [],
   "source": [
    "\"\"\"\n",
    "\n",
    " Generate subgraph\n",
    " \n",
    "\"\"\"\n",
    "\n",
    "# simulate a graph with some missing node features\n",
    "missing_features = False\n",
    "missing_percent = 0.20\n",
    "missing = set()\n",
    "\n",
    "def generate_subgraph(nodes, selected, mapping, step_size):\n",
    "    subgraph = G.subgraph(nodes).copy()\n",
    "    subgraph_np = nx.to_numpy_matrix(subgraph)\n",
    "    \n",
    "    map_index1 = 0\n",
    "    if mapping:  \n",
    "        map_index1 = len(mapping)\n",
    "        \n",
    "    map_index2 = map_index1 + step_size\n",
    "    \n",
    "    print(map_index1, map_index2)\n",
    "    \n",
    "    mapping_new = dict(zip(selected,np.arange(map_index1, map_index2)))\n",
    "    mapping.update(mapping_new)\n",
    "    \n",
    "    print(\"mapsize:\",len(mapping))\n",
    "    \n",
    "    mapping_reverse = {value:key for key, value in mapping.items()}\n",
    "    \n",
    "    subgraph_r = nx.relabel_nodes(subgraph, mapping)\n",
    "    subgraph_r_np = nx.to_numpy_matrix(subgraph_r)\n",
    "\n",
    "    print(\"edges:\", subgraph_r.size(), \"\\t nodes:\", len(subgraph_r.nodes())) \n",
    "\n",
    "    x = np.zeros((np.shape(subgraph_r_np)[0], feature_len)) # features\n",
    "    y = np.zeros((np.shape(subgraph_r_np)[0],2)) # classes\n",
    "    \n",
    "    print(\"max:\",max(subgraph_r.nodes()))\n",
    "    \n",
    "    for node in subgraph_r.nodes():\n",
    "        if (missing_features and rand.random() < missing_percent) or node in missing:\n",
    "            x[node] = np.zeros(feature_len)\n",
    "            missing.add(node)\n",
    "        else:\n",
    "            x[node] = get_features(str(mapping_reverse[node]))\n",
    "        \n",
    "        cl = classes[mapping_reverse[node]]\n",
    "        val = np.zeros(2)\n",
    "        val[cl] = 1\n",
    "        \n",
    "        y[node] = val\n",
    "    \n",
    "    del mapping_reverse, subgraph_r_np\n",
    "\n",
    "    return subgraph_r, x, y, mapping\n",
    "\n",
    "\"\"\"\n",
    "\n",
    " Feature Extraction\n",
    "\n",
    "\"\"\"\n",
    "\n",
    "def feature_extraction(subgraph, x):\n",
    "    subgraph_np = torch.from_numpy(nx.to_numpy_matrix(subgraph).astype(np.float32)).to_sparse()\n",
    "    I = torch.eye(len(subgraph))\n",
    "    A = I + subgraph_np # G + identity\n",
    "    A = A.to_sparse()\n",
    "    D = np.zeros((np.shape(subgraph_np)[0])) # Degree matrix\n",
    "    x = torch.from_numpy(x.astype(np.float32))\n",
    "\n",
    "\n",
    "    for node in subgraph.nodes():\n",
    "        D[node] = 1.0 / np.sqrt(subgraph.degree(node) + 1)\n",
    "\n",
    "    D = torch.from_numpy(np.diag(D).astype(np.float32))\n",
    "    D = D.to_sparse()\n",
    "    \n",
    "    S = D * A * D\n",
    "    n_layers = 5\n",
    "    #S_k = S\n",
    "\n",
    "    r = x\n",
    "    for _ in range(n_layers):\n",
    "        r = torch.spmm(S, r)\n",
    "  \n",
    "    #print(S_k.shape, x.shape)\n",
    "    \n",
    "    #r = S_k @ x\n",
    "    \n",
    "    return r\n"
   ]
  },
  {
   "cell_type": "code",
   "execution_count": 8,
   "metadata": {
    "colab": {
     "base_uri": "https://localhost:8080/",
     "height": 286
    },
    "colab_type": "code",
    "id": "8ZohKjcB5uqK",
    "outputId": "8fa59cbf-a83e-4a8d-ee09-9168c4a44452"
   },
   "outputs": [
    {
     "name": "stdout",
     "output_type": "stream",
     "text": [
      "0 7540\n",
      "mapsize: 7540\n",
      "edges: 11940 \t nodes: 7540\n",
      "max: 7539\n",
      "7540 15080\n",
      "mapsize: 15080\n",
      "edges: 48016 \t nodes: 15080\n",
      "max: 15079\n",
      "15080 22620\n",
      "mapsize: 22620\n",
      "edges: 102189 \t nodes: 22620\n",
      "max: 22619\n",
      "22620 30160\n",
      "mapsize: 30160\n",
      "edges: 184881 \t nodes: 30160\n",
      "max: 30159\n",
      "30160 37700\n",
      "mapsize: 37700\n",
      "edges: 289003 \t nodes: 37700\n",
      "max: 37699\n"
     ]
    }
   ],
   "source": [
    "nodes = G.nodes()\n",
    "final_subgraphs = []\n",
    "final_features = []\n",
    "final_classes = []\n",
    "visited = []\n",
    "mapping = dict()\n",
    "step_size = int(0.20 * len(G.nodes()))\n",
    "\n",
    "while len(visited) < 1.0 * len(G.nodes()):\n",
    "    selected = rand.sample(nodes, step_size)\n",
    "    visited = visited + selected\n",
    "    nodes = [ele for ele in nodes if ele not in selected]\n",
    "    \n",
    "    subgraph, x, y, mapping = generate_subgraph(visited, selected, mapping, step_size)\n",
    "    final_subgraphs.append(subgraph)\n",
    "    final_features.append(x)\n",
    "    final_classes.append(y)\n",
    "    \n",
    "    "
   ]
  },
  {
   "cell_type": "code",
   "execution_count": 9,
   "metadata": {
    "colab": {
     "base_uri": "https://localhost:8080/",
     "height": 34
    },
    "colab_type": "code",
    "id": "vws1mXJcpbEx",
    "outputId": "c1713a1a-ec9b-43ed-d90a-552d0fa62b88"
   },
   "outputs": [
    {
     "data": {
      "text/plain": [
       "5"
      ]
     },
     "execution_count": 9,
     "metadata": {},
     "output_type": "execute_result"
    }
   ],
   "source": [
    "len(final_subgraphs)"
   ]
  },
  {
   "cell_type": "code",
   "execution_count": 27,
   "metadata": {
    "colab": {},
    "colab_type": "code",
    "id": "MDFfhLt65uqM"
   },
   "outputs": [],
   "source": [
    "r_0 = feature_extraction(final_subgraphs[0], final_features[0])"
   ]
  },
  {
   "cell_type": "code",
   "execution_count": 28,
   "metadata": {
    "colab": {},
    "colab_type": "code",
    "id": "2U6jwIA75uqO"
   },
   "outputs": [],
   "source": [
    "class SGCModel(nn.Module):\n",
    "    def __init__(self, feature_len):\n",
    "        super(SGCModel, self).__init__()\n",
    "        self.lin1 = nn.Linear(feature_len, 800)\n",
    "        self.lin2 = nn.Linear(800,200)\n",
    "        self.lin3 = nn.Linear(200,2)\n",
    "        self.sigmoid = nn.Sigmoid()\n",
    "\n",
    "    def forward(self, inputX):\n",
    "        out = self.sigmoid(self.lin3(F.relu(self.lin2(F.relu(self.lin1(inputX))))))\n",
    "        return out\n",
    "\n"
   ]
  },
  {
   "cell_type": "code",
   "execution_count": 29,
   "metadata": {
    "colab": {},
    "colab_type": "code",
    "id": "Js397f2kXvHe"
   },
   "outputs": [],
   "source": [
    "def validTestData(i, ss):\n",
    "    r = feature_extraction(final_subgraphs[i], final_features[i])\n",
    "    yGT = torch.from_numpy(final_classes[i].astype(np.float32))\n",
    "\n",
    "    # 0: 0 - 7499\n",
    "    # 1: 7500 - 14999\n",
    "    # 2 : 15000 - 22499\n",
    "\n",
    "\n",
    "    # 7500 ... 15000\n",
    "\n",
    "    print(ss)\n",
    "    x = r[ss:]\n",
    "    y = yGT[ss:]\n",
    "    \n",
    "    # 0 ... 7500\n",
    "    px = r[:ss]\n",
    "    py = yGT[:ss]\n",
    "\n",
    "    vx = torch.chunk(x, 2)[0]\n",
    "    tx = torch.chunk(x, 2)[1]\n",
    "\n",
    "    vy = torch.chunk(y, 2)[0]\n",
    "    ty = torch.chunk(y, 2)[1]\n",
    "\n",
    "\n",
    "    return px, py, vx, vy, tx, ty"
   ]
  },
  {
   "cell_type": "code",
   "execution_count": null,
   "metadata": {
    "colab": {
     "base_uri": "https://localhost:8080/",
     "height": 1000
    },
    "colab_type": "code",
    "id": "Ef0KmQrH5uqR",
    "outputId": "d71daa9f-cd84-4dfe-b823-53848f1c31a7",
    "scrolled": true
   },
   "outputs": [
    {
     "name": "stdout",
     "output_type": "stream",
     "text": [
      "7540\n",
      "validation loss: tensor(0.5430) valid accuracy: 0.7604774535809019\n",
      "validation loss: tensor(0.7683) valid accuracy: 0.7819628647214855\n",
      "validation loss: tensor(1.4375) valid accuracy: 0.48010610079575594\n",
      "accuracy: 0.7981432360742705\n",
      "15080\n",
      "validation loss: tensor(0.7277) valid accuracy: 0.789920424403183\n",
      "validation loss: tensor(0.7150) valid accuracy: 0.7976127320954907\n",
      "validation loss: tensor(0.8862) valid accuracy: 0.8039787798408488\n",
      "accuracy: 0.8180371352785146\n",
      "22620\n",
      "validation loss: tensor(0.7490) valid accuracy: 0.8092838196286473\n",
      "validation loss: tensor(0.5905) valid accuracy: 0.8047745358090186\n",
      "validation loss: tensor(0.6738) valid accuracy: 0.8058355437665783\n",
      "accuracy: 0.8090185676392573\n"
     ]
    }
   ],
   "source": [
    "\"\"\"\n",
    "\n",
    "Online learning\n",
    "\n",
    "\n",
    "\"\"\"\n",
    "import copy\n",
    "\n",
    "model = SGCModel(feature_len)\n",
    "model_copy = None\n",
    "moment = 0.90\n",
    "optimizer = torch.optim.Adam(model.parameters(), lr=0.0001)\n",
    "#optimizer = torch.optim.SGD(model.parameters(), lr=0.0001, momentum=moment)\n",
    "num_epoch = 25\n",
    "batch_num = 10\n",
    "\n",
    "#loss_function = torch.nn.MSELoss()\n",
    "loss_function = torch.nn.BCELoss()\n",
    "\n",
    "xprev, yprev, validSet_x, validSet_y, testSet_x, testSet_y = validTestData(1, step_size)\n",
    "train = r_0\n",
    "trainSet = torch.chunk(train, batch_num)\n",
    "\n",
    "ytrain = torch.from_numpy(final_classes[0].astype(np.float32))\n",
    "trainGT = torch.chunk(ytrain, batch_num)\n",
    "\n",
    "model.train()\n",
    "\n",
    "\"\"\"\n",
    "Weight warmup\n",
    "\"\"\"\n",
    "for epoch in range(0, 3):\n",
    "    for batch_i in range(batch_num):\n",
    "        y_predicted = model.forward(trainSet[batch_i])\n",
    "        loss = loss_function(y_predicted, trainGT[batch_i])\n",
    "        optimizer.zero_grad()\n",
    "        loss.backward()\n",
    "        optimizer.step()\n",
    "    \n",
    "          #print('Warm Up Epoch:', epoch, 'batch', batch_i, loss.data.item())\n",
    "    \n",
    "\n",
    "\n",
    "\n",
    "#optimizerPW = torch.optim.SGD(model.parameters(), lr=0.001, momentum=moment)\n",
    "\n",
    "lrs = [0.01, 0.005, 0.0025, 0.00125]\n",
    "#lrs = [0.001, 0.0005, 0.00025]\n",
    "\n",
    "current_step_size = step_size\n",
    "for i in range(1,len(final_subgraphs)):\n",
    "    xtrain = []\n",
    "    ytrain = []\n",
    "\n",
    "    if i == 1:\n",
    "        xtrain = r_0\n",
    "        ytrain = torch.from_numpy(final_classes[0].astype(np.float32))\n",
    "    else:\n",
    "        xprev, yprev, validSet_x, validSet_y, testSet_x, testSet_y = validTestData(i, current_step_size)\n",
    "        xtrain = xprev\n",
    "        ytrain = yprev\n",
    "\n",
    "    #print(xtrain.shape, ytrain.shape)\n",
    "\n",
    "    current_step_size += step_size\n",
    "\n",
    "    trainSet = torch.chunk(xtrain, batch_num)\n",
    "    trainGT = torch.chunk(ytrain, batch_num)\n",
    "\n",
    "    model.train()\n",
    "\n",
    "    optimizerPW = torch.optim.Adam(model.parameters(), lr=lrs[i-1])\n",
    "    for epoch in range(0, num_epoch):\n",
    "        lossAvg = 0\n",
    "        batchesLoss = []\n",
    "        for batch_i in range(batch_num):\n",
    "            y_predicted = model.forward(trainSet[batch_i])\n",
    "\n",
    "            #print(y_predicted.shape, trainGT[batch_i].shape)\n",
    "            loss = loss_function(y_predicted, trainGT[batch_i])\n",
    "            optimizerPW.zero_grad()\n",
    "            loss.backward()\n",
    "            optimizerPW.step()\n",
    "            batchesLoss.append(loss.data.item())\n",
    "            lossAvg += loss.data.item()\n",
    "              ##TODO: Create a simple function to compute which values match ground truth manually, and print the \"Training Accuracy\" per epoch\n",
    "        if epoch % 10 == 0:\n",
    "            with torch.no_grad():\n",
    "                model.eval()\n",
    "                valOut = model.forward(validSet_x)\n",
    "                loss = loss_function(valOut, validSet_y)\n",
    "\n",
    "                #print(valOut.shape, validSet_x.shape)\n",
    "                _,predicted = torch.max(valOut, 1)\n",
    "                _,actual = torch.max(validSet_y,1)\n",
    "\n",
    "                print(\"validation loss:\", loss, \"valid accuracy:\", float((predicted == actual).sum().item() / len(predicted)))\n",
    "\n",
    "            model.train()\n",
    "\n",
    "        #print('Epoch[{}/{}], loss: {:.6f}'\n",
    "              #.format(epoch + 1, num_epoch, lossAvg/batch_num))\n",
    "    \n",
    "    \"\"\"\n",
    "    NOW WE TEST\n",
    "    \"\"\"\n",
    "    model.eval()\n",
    "\n",
    "    _,predicted = torch.max(model.forward(testSet_x), 1)\n",
    "    _,actual = torch.max(testSet_y,1)\n",
    "    print(\"accuracy:\", (predicted == actual).sum().item() / len(predicted))\n",
    "    \n",
    "    if(i == 1):\n",
    "        model_copy = copy.deepcopy(model)"
   ]
  },
  {
   "cell_type": "code",
   "execution_count": 21,
   "metadata": {
    "colab": {
     "base_uri": "https://localhost:8080/",
     "height": 588
    },
    "colab_type": "code",
    "id": "WVYDTWi_-SFe",
    "outputId": "bbf772df-207c-4993-9ed0-c24dbd08c64b"
   },
   "outputs": [
    {
     "name": "stdout",
     "output_type": "stream",
     "text": [
      "7540\n",
      "accuracy: 0.7989389920424403\n",
      "15080\n",
      "accuracy: 0.8026525198938992\n",
      "22620\n",
      "accuracy: 0.7782493368700265\n",
      "30160\n",
      "accuracy: 0.7716180371352785\n"
     ]
    }
   ],
   "source": [
    "\"\"\"\n",
    "\n",
    "Train once, test on all\n",
    "\n",
    "\n",
    "\"\"\"\n",
    "\n",
    "#lrs = [0.001, 0.0005, 0.00025]\n",
    "lrs = [0.01, 0.0005, 0.00025]\n",
    "\n",
    "current_step_size = step_size\n",
    "for i in range(1,len(final_subgraphs)):\n",
    "    _, _, _, _, testSet_x, testSet_y = validTestData(i, current_step_size)\n",
    "\n",
    "    current_step_size += step_size\n",
    "    \n",
    "    \"\"\"\n",
    "    NOW WE TEST\n",
    "    \"\"\"\n",
    "    model_copy.eval()\n",
    "\n",
    "    _,predicted = torch.max(model_copy.forward(testSet_x), 1)\n",
    "    _,actual = torch.max(testSet_y,1)\n",
    "    print(\"accuracy:\", (predicted == actual).sum().item() / len(predicted))"
   ]
  },
  {
   "cell_type": "code",
   "execution_count": 0,
   "metadata": {
    "colab": {},
    "colab_type": "code",
    "id": "d3loQQp75uqm"
   },
   "outputs": [],
   "source": []
  }
 ],
 "metadata": {
  "colab": {
   "collapsed_sections": [],
   "machine_shape": "hm",
   "name": "github_Copy1_(2).ipynb",
   "provenance": []
  },
  "kernelspec": {
   "display_name": "Python 3",
   "language": "python",
   "name": "python3"
  },
  "language_info": {
   "codemirror_mode": {
    "name": "ipython",
    "version": 3
   },
   "file_extension": ".py",
   "mimetype": "text/x-python",
   "name": "python",
   "nbconvert_exporter": "python",
   "pygments_lexer": "ipython3",
   "version": "3.6.9"
  }
 },
 "nbformat": 4,
 "nbformat_minor": 1
}
